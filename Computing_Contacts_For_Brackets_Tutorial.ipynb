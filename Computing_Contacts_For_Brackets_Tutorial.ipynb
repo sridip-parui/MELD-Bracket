{
 "cells": [
  {
   "cell_type": "code",
   "execution_count": 17,
   "metadata": {},
   "outputs": [],
   "source": [
    "import random\n",
    "from operator import itemgetter\n",
    "from collections import Counter,defaultdict, namedtuple\n",
    "from functools import partial\n",
    "from itertools import zip_longest, groupby, chain\n",
    "import mdtraj as md\n",
    "import numpy as np\n",
    "from util import *\n",
    "srcPathBase=\"/Tyk2/Data\"  # Path for mol2,frcmod, lib folders\n",
    "destPathBase=\"/Tyk2/6-competitor\" # Set the path "
   ]
  },
  {
   "cell_type": "markdown",
   "metadata": {},
   "source": [
    "# Critera for generating ligand heavy atoms centric contacts:\n",
    "<ol>\n",
    "<li> Compute ligand-protein contacts within using cut-off 0.38nm; </li>\n",
    "<li> Sort and group all contacts using ligand atoms indices; </li>\n",
    "<li> Randomly select at most one contacts per ligand heavy atoms and save them. </li>\n",
    "</ol>"
   ]
  },
  {
   "cell_type": "code",
   "execution_count": 18,
   "metadata": {},
   "outputs": [],
   "source": [
    "def formatContact(top,idxPair):\n",
    "    atom_i, atom_j = map(top.atom,idxPair)\n",
    "    resid_i_idx, atom_i_name = atom_i.residue.index + 1, atom_i.name\n",
    "    resid_j_idx, atom_j_name = atom_j.residue.index + 1, atom_j.name\n",
    "    return str(resid_i_idx),atom_i_name,str(resid_j_idx),atom_j_name\n",
    "\n",
    "def filterContacts(ligand_contact_dict, filter_policy):\n",
    "    \"\"\"\n",
    "    Parameters:\n",
    "    -----------\n",
    "    ligand_contact_dict: dict of lists containing contacts for each ligand.\n",
    "                         key: ligand ID; value: list of contact pair (prot_atom_index, lig_atom_index)\n",
    "    filter_policy: a namedtuple.\n",
    "                    max_contact_per_field: int; NOTE: field can be protein residue or ligand atoms.\n",
    "                    groupby_field: int; which field to use in groupby.\n",
    "                    random_seed: int; random seed to pick contacts.\n",
    "    \n",
    "    Output:\n",
    "    -------\n",
    "    filtered_contacts: dict of lists containing filtered contacts for each ligand.\n",
    "    \"\"\"\n",
    "    required_fields_in_filter_policy = set([\"random_seed\", \"groupby_field\", \"max_contact_per_field\"])\n",
    "    poorly_defined_field = required_fields_in_filter_policy - set(filter_policy._fields) \n",
    "    if poorly_defined_field:\n",
    "        raise ValueError(f\" {poorly_defined_field} in filter_policy is incorrectly defined.\")\n",
    "    if not isinstance(filter_policy.random_seed, int):\n",
    "        raise ValueError(\"random seed must be an integer.\")\n",
    "    if not callable(filter_policy.groupby_field):\n",
    "        raise ValueError(\"groupby_field must be a callable.\")\n",
    "    if not isinstance(filter_policy.max_contact_per_field, int):\n",
    "        raise ValueError(\"max_contact_per_target must be an integer.\")\n",
    "        \n",
    "    reduced_contacts_dict = defaultdict(list)\n",
    "    MAX_CONTACT_PER_FIELD = filter_policy.max_contact_per_field\n",
    "    groupby_field = filter_policy.groupby_field\n",
    "    rand_seed = filter_policy.random_seed\n",
    "    \n",
    "    for mol_id in ligand_contact_dict.keys():\n",
    "        contacts_per_ligand = ligand_contact_dict[mol_id]\n",
    "        if contacts_per_ligand: # don't group empty ones.\n",
    "            for field, contacts in groupby(contacts_per_ligand,key=groupby_field):\n",
    "                contact_list = list(contacts)\n",
    "                RESTRAINT_PER_FIELD = min(len(contact_list), MAX_CONTACT_PER_FIELD)\n",
    "                if rand_seed is not None:\n",
    "                    random.seed(rand_seed)\n",
    "                picked_restraint = random.sample(contact_list,RESTRAINT_PER_FIELD)\n",
    "                reduced_contacts_dict[mol_id].extend(picked_restraint)\n",
    "    return reduced_contacts_dict"
   ]
  },
  {
   "cell_type": "markdown",
   "metadata": {},
   "source": [
    "# Compute bound ligand contacts for a new bracket"
   ]
  },
  {
   "cell_type": "code",
   "execution_count": 19,
   "metadata": {},
   "outputs": [],
   "source": [
    "brackets = [\"L01_L02_L03_L14_L15_L16\",]"
   ]
  },
  {
   "cell_type": "code",
   "execution_count": 20,
   "metadata": {},
   "outputs": [
    {
     "name": "stdout",
     "output_type": "stream",
     "text": [
      "\n"
     ]
    },
    {
     "name": "stderr",
     "output_type": "stream",
     "text": [
      "\n"
     ]
    },
    {
     "name": "stdout",
     "output_type": "stream",
     "text": [
      " "
     ]
    }
   ],
   "source": [
    "CONTACT_CUT_OFF = 0.38\n",
    "SAVE_CONTACTS = True\n",
    "folderTemplate = \"Bound_{mol_id}\"\n",
    "for aBracket in brackets[:]:\n",
    "    mol_info = {}\n",
    "    for ligIdx in aBracket.split(\"_\"):\n",
    "        mol_info[ligIdx] = ligIdx\n",
    "        folder_name=\"_\".join(sorted(list(mol_info.keys())))\n",
    "    print(folder_name)\n",
    "    templateContacts = defaultdict(list)\n",
    "    for mol_id in mol_info.keys():\n",
    "        path = folderTemplate.format(mol_id=mol_id)\n",
    "        with cd(f\"{destPathBase}/{folder_name}/1.Prepare/{path}\"):\n",
    "            # Use initial pose to compute contacts\n",
    "            t = md.load(f\"B{mol_id}.inpcrd\",top=f\"B{mol_id}.prmtop\") # use initial pose \n",
    "            top = t.topology\n",
    "            convertIdxToName = partial(formatContact,top)\n",
    "            \n",
    "            lig_ha = t.topology.select(f\"resname {mol_info[mol_id]} and symbol != 'H'\") # ligand non-hydrogen atoms\n",
    "            prot_ha = t.topology.select(\"protein and symbol != 'H'\")   \n",
    "\n",
    "            for atom in prot_ha:\n",
    "                prot_idx = t.topology.atom(atom).residue.index + 1 # mdtraj is 0-based\n",
    "                atom = np.array([atom])\n",
    "                neighbor = md.compute_neighbors(t,CONTACT_CUT_OFF,atom,haystack_indices=lig_ha,periodic=True)[0]\n",
    "                #print(f\"There are {len(neighbor)} contacts\")\n",
    "                if neighbor.size > 0:\n",
    "                    templateContacts[mol_id].extend(zip(atom.repeat(len(neighbor)),neighbor))\n",
    "    \n",
    "    filter_policy = namedtuple(\"filter_policy\",[\"max_contact_per_field\", \"groupby_field\",\"random_seed\"])\n",
    "    filter_policy.max_contact_per_field = 1\n",
    "    filter_policy.groupby_field = itemgetter(-1) #lambda a_contact: a_contact[-1] # group by ligand atom name.\n",
    "    filter_policy.random_seed = 1234\n",
    "    \n",
    "    templateContacts_transformed = defaultdict(list)\n",
    "    for key, val in templateContacts.items():\n",
    "        templateContacts_transformed[key] = sorted(list(map(convertIdxToName, val)), \n",
    "                                                   key=filter_policy.groupby_field)\n",
    "    reduced_contacts_dict = filterContacts(templateContacts_transformed, filter_policy)\n",
    "            \n",
    "    min_amount = min(list(map(len,reduced_contacts_dict.values())))\n",
    "    print(\"_\".join(mol_info.keys()),min_amount)\n",
    "    \n",
    "    if SAVE_CONTACTS:    \n",
    "        for mol_id in mol_info.keys():    \n",
    "            path = folderTemplate.format(mol_id=mol_id)\n",
    "            with cd(f\"{destPathBase}/{folder_name}/1.Prepare/{path}\"):\n",
    "                with open(f\"B{mol_id}_heavyatom_ligand_centric.txt\",\"w\") as fl:\n",
    "                    random.seed(filter_policy.random_seed)\n",
    "                    picked_restraint = random.sample(reduced_contacts_dict[mol_id],\\\n",
    "                                                     min_amount)\n",
    "                    for rest in picked_restraint:\n",
    "                        fl.write(\" \".join(rest)+\"\\n\")"
   ]
  },
  {
   "cell_type": "code",
   "execution_count": null,
   "metadata": {},
   "outputs": [],
   "source": []
  },
  {
   "cell_type": "code",
   "execution_count": null,
   "metadata": {},
   "outputs": [],
   "source": []
  }
 ],
 "metadata": {
  "kernelspec": {
   "display_name": "Python 3 (ipykernel)",
   "language": "python",
   "name": "python3"
  },
  "language_info": {
   "codemirror_mode": {
    "name": "ipython",
    "version": 3
   },
   "file_extension": ".py",
   "mimetype": "text/x-python",
   "name": "python",
   "nbconvert_exporter": "python",
   "pygments_lexer": "ipython3",
   "version": "3.7.10"
  }
 },
 "nbformat": 4,
 "nbformat_minor": 4
}
