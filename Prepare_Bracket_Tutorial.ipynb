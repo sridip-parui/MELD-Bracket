{
 "cells": [
  {
   "cell_type": "code",
   "execution_count": 6,
   "metadata": {},
   "outputs": [],
   "source": [
    "%matplotlib inline\n",
    "import matplotlib.pyplot as plt\n",
    "import os\n",
    "import math\n",
    "import shutil\n",
    "import numpy as np\n",
    "from collections import Counter\n",
    "import seaborn as sns\n",
    "from prepare_bracket import *\n",
    "from util import cd"
   ]
  },
  {
   "cell_type": "code",
   "execution_count": 7,
   "metadata": {},
   "outputs": [],
   "source": [
    "def verify_bracket(aBracket):\n",
    "    if not isinstance(aBracket,list):\n",
    "        raise RuntimeError(\"Please provide a list.\")\n",
    "    if len(set(aBracket))!=len(aBracket):\n",
    "        raise RuntimeError(\"There are duplicated elements in the bracket list\")\n",
    "    return [e for e in aBracket]"
   ]
  },
  {
   "cell_type": "markdown",
   "metadata": {},
   "source": [
    "# Test"
   ]
  },
  {
   "cell_type": "code",
   "execution_count": 8,
   "metadata": {},
   "outputs": [
    {
     "data": {
      "text/plain": [
       "['L01', 'L02', 'L03', 'L14', 'L15', 'L16']"
      ]
     },
     "execution_count": 8,
     "metadata": {},
     "output_type": "execute_result"
    }
   ],
   "source": [
    "brackets = [\"L01_L02_L03_L14_L15_L16\"]\n",
    "bracket = brackets[0].split(\"_\")\n",
    "verify_bracket(bracket)"
   ]
  },
  {
   "cell_type": "markdown",
   "metadata": {},
   "source": [
    "# Prepare a 2-competitor bracket"
   ]
  },
  {
   "cell_type": "code",
   "execution_count": 9,
   "metadata": {},
   "outputs": [],
   "source": [
    "brackets = [\"L01_L02_L03_L14_L15_L16\"]"
   ]
  },
  {
   "cell_type": "code",
   "execution_count": 10,
   "metadata": {},
   "outputs": [
    {
     "name": "stdout",
     "output_type": "stream",
     "text": [
      "Preparing binders: ['L01', 'L02', 'L03', 'L14', 'L15', 'L16']\n",
      "Preparing Done!\n"
     ]
    }
   ],
   "source": [
    "srcPathBase=\"/Tyk2/Data\"  # Path for mol2,frcmod, lib folders\n",
    "destPathBase=\"/Tyk2/6-competitor\"  # Set the path \n",
    "PROTEIN_UNBOUND_DISTANCE = 50 # A, please modify this number properly!!!!\n",
    "WATER_BOX_BUFFER = 15 # A\n",
    "NUM_OF_COMPETITORS = 6 \n",
    "\n",
    "### Run for a bracket\n",
    "bracket = brackets[0].split(\"_\")\n",
    "print(f\"Preparing binders: {bracket}\")\n",
    "\n",
    "### General mol info\n",
    "mol_info=verify_bracket(bracket)\n",
    "\n",
    "\n",
    "numOfWat = {}\n",
    "numOfWatAfterEquil = {}\n",
    "folderName = \"_\".join(sorted(mol_info))\n",
    "\n",
    "#for bound_mol_id in mol_info.keys():\n",
    "for bound_mol_id in mol_info:\n",
    "    # create dest dir if needed\n",
    "    target_path = f\"{destPathBase}/{folderName}/1.Prepare/Bound_{bound_mol_id}\"\n",
    "    if not os.path.isdir(f\"{target_path}\"):\n",
    "        os.makedirs(f\"{target_path}\")\n",
    "    \n",
    "    with cd(f\"{target_path}\"): # change working directory\n",
    "        \n",
    "        for other_mol_id in mol_info:    # iterate every other molecules\n",
    "            for fltype in [\"lib\",\"frcmod\",\"mol2\"]:\n",
    "                ligFile = FileBase(\n",
    "                    fileSrc=f\"{srcPathBase}/{fltype}/{other_mol_id}.{fltype}\",\n",
    "                    destDir=os.getcwd()\n",
    "                )\n",
    "                ligFile.copyFile()\n",
    "        \n",
    "        # copy receptor file\n",
    "        protFile = FileBase(\n",
    "            fileSrc=f\"{srcPathBase}/rec_amber.pdb\",\n",
    "            destDir=os.getcwd()\n",
    "        )\n",
    "        protFile.copyFile()\n",
    "        \n",
    "        mols = []\n",
    "        # prepare protein molecule\n",
    "        protein = MoleculeFromPdb(\"rec_amber.pdb\",mol_id=\"rec\")\n",
    "        mols.append(protein)\n",
    "        ## No disulfide bonds\n",
    "        #for res_i, res_j in [(22,66),(56,99),(158,206)]:\n",
    "        #    protein.add_disulfide(res_i,res_j)\n",
    "        #mols.append(protein)\n",
    "        \n",
    "        # compute unbound ligand anchor point                     \n",
    "        if bound_mol_id == mol_info[0]: # make sure only done once\n",
    "            sampleSurf = SampleSurfacePoint(radius=PROTEIN_UNBOUND_DISTANCE,NPoints=NUM_OF_COMPETITORS-1,\n",
    "                                            surfPointSep=PROTEIN_UNBOUND_DISTANCE,protPDB=\"rec_amber.pdb\")\n",
    "            unbound_anchor_dict = sampleSurf.getPointDict(mol_info)\n",
    "    \n",
    "        # prepare small molecules\n",
    "        anchor_xyz_gen = iter(unbound_anchor_dict.items())\n",
    "        \n",
    "        #for mol_id in mol_info.keys():\n",
    "        #for mol_id, unit_name in mol_info.items():\n",
    "        for mol_id in mol_info:\n",
    "            mol = MoleculeFromMol2(f\"{mol_id}.mol2\",mol_id=mol_id,unit_name=mol_id)\n",
    "            mol.add_lib_file(f\"{mol_id}.lib\")\n",
    "            mol.add_frcmod_file(f\"{mol_id}.frcmod\")\n",
    "        \n",
    "            if mol_id != bound_mol_id:\n",
    "                _,anchor_xyz = next(anchor_xyz_gen)\n",
    "                #anchor_xyz = unbond_anchor_dict[unit_name]\n",
    "                mol.prepare_translation_vector(anchor_xyz=anchor_xyz)        \n",
    "            # append small molecules\n",
    "            mols.append(mol)\n",
    "    \n",
    "        # build the complex\n",
    "       # b = systemBuilder(forcefield=[\"ff14sb\",\"gaff2_mod\"],solvent_distance=WATER_BOX_BUFFER)\n",
    "        b = systemBuilder(forcefield=[\"ff14sb\",\"gaff2\"],solvent_distance=WATER_BOX_BUFFER)\n",
    "        b.build_system_from_molecules(mols,output_prefix=f\"B{bound_mol_id}\")\n",
    "        \n",
    "        # compute number of waters in each complex\n",
    "        numWat,numNonWatIon = count_wat(f\"B{bound_mol_id}.prmtop\")\n",
    "        numOfWat[bound_mol_id] = numWat\n",
    "        \n",
    "# sort ascendingly the number of waters in each complex. \n",
    "numOfWatSorted = {\n",
    "    k:v for k,v in sorted(numOfWat.items(),\n",
    "                          key=lambda item: item[1]\n",
    "                         )\n",
    "}\n",
    "largestBox = numOfWatSorted.popitem()[1]\n",
    "print(\"Preparing Done!\")"
   ]
  },
  {
   "cell_type": "code",
   "execution_count": 11,
   "metadata": {},
   "outputs": [
    {
     "name": "stdout",
     "output_type": "stream",
     "text": [
      "All templates have equal number of solvent.\n"
     ]
    }
   ],
   "source": [
    "# equilize the number of water in each complex to the largest one.\n",
    "SOLVENT_DELTA_CUTOFF = 50\n",
    "for mol_id in mol_info:\n",
    "    target_path = f\"{destPathBase}/{folderName}/1.Prepare/Bound_{mol_id}\"\n",
    "    if numOfWat[mol_id] != largestBox: # need equilization\n",
    "        with cd(target_path): # change working directory\n",
    "            \n",
    "            equilizer = solventEquilizer(targetNumOfSolvent=largestBox, \n",
    "                                         buffer=WATER_BOX_BUFFER,\n",
    "                                         top=f\"B{mol_id}.prmtop\",\n",
    "                                         crd=f\"B{mol_id}.inpcrd\",\n",
    "                                         leapin=\"leap.parm.in\",\n",
    "                                         tol=SOLVENT_DELTA_CUTOFF,\n",
    "                                         soluteres=numNonWatIon,\n",
    "                                         molname=\"solute\"\n",
    "                                        )\n",
    "            try:\n",
    "                equilizer.run()\n",
    "            except:\n",
    "                print(f\"buffer 10 Å is not proper.\")\n",
    "                \n",
    "            numWat,_ = count_wat(f\"B{mol_id}.prmtop\")\n",
    "            numOfWatAfterEquil[mol_id] = numWat\n",
    "\n",
    "assert len(set(list(numOfWatAfterEquil.values()))) == 1\n",
    "print(\"All templates have equal number of solvent.\")"
   ]
  },
  {
   "cell_type": "code",
   "execution_count": null,
   "metadata": {},
   "outputs": [],
   "source": []
  },
  {
   "cell_type": "code",
   "execution_count": null,
   "metadata": {},
   "outputs": [],
   "source": []
  }
 ],
 "metadata": {
  "kernelspec": {
   "display_name": "Python 3 (ipykernel)",
   "language": "python",
   "name": "python3"
  },
  "language_info": {
   "codemirror_mode": {
    "name": "ipython",
    "version": 3
   },
   "file_extension": ".py",
   "mimetype": "text/x-python",
   "name": "python",
   "nbconvert_exporter": "python",
   "pygments_lexer": "ipython3",
   "version": "3.7.10"
  }
 },
 "nbformat": 4,
 "nbformat_minor": 4
}
